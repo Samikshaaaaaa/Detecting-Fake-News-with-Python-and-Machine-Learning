{
  "nbformat": 4,
  "nbformat_minor": 0,
  "metadata": {
    "colab": {
      "provenance": [],
      "authorship_tag": "ABX9TyOJ/VIvFwlxIpo1GLbrYSob",
      "include_colab_link": true
    },
    "kernelspec": {
      "name": "python3",
      "display_name": "Python 3"
    },
    "language_info": {
      "name": "python"
    }
  },
  "cells": [
    {
      "cell_type": "markdown",
      "metadata": {
        "id": "view-in-github",
        "colab_type": "text"
      },
      "source": [
        "<a href=\"https://colab.research.google.com/github/Samikshaaaaaa/Detecting-Fake-News-with-Python-and-Machine-Learning/blob/main/prac_1.ipynb\" target=\"_parent\"><img src=\"https://colab.research.google.com/assets/colab-badge.svg\" alt=\"Open In Colab\"/></a>"
      ]
    },
    {
      "cell_type": "code",
      "source": [
        "import numpy as np"
      ],
      "metadata": {
        "id": "asbZQ-rnU4N8"
      },
      "execution_count": 6,
      "outputs": []
    },
    {
      "cell_type": "code",
      "execution_count": 1,
      "metadata": {
        "id": "ZcbOqoiKUEk9"
      },
      "outputs": [],
      "source": [
        "def sigmoid(x):\n",
        "    return 1 / (1 + np.exp(-x))"
      ]
    },
    {
      "cell_type": "code",
      "source": [
        "def sigmoid_derivative(x):\n",
        "    return x * (1 - x)"
      ],
      "metadata": {
        "id": "ThYxf74YUXlC"
      },
      "execution_count": 2,
      "outputs": []
    },
    {
      "cell_type": "code",
      "source": [
        "def mean_squared_error(y_pred, y_true):\n",
        "    return ((y_pred - y_true)**2).mean()"
      ],
      "metadata": {
        "id": "Fk_ocmf0Uf6e"
      },
      "execution_count": 3,
      "outputs": []
    },
    {
      "cell_type": "code",
      "source": [
        "X = np.array([[0, 0, 1], [0, 1, 1], [1, 0, 1], [1, 1, 1]])\n",
        "y = np.array([[0], [1], [1], [0]])\n"
      ],
      "metadata": {
        "id": "qfdBIVbIUlWu"
      },
      "execution_count": 7,
      "outputs": []
    },
    {
      "cell_type": "code",
      "source": [
        "weights_hidden = np.random.rand(3, 3)\n",
        "weights_output = np.random.rand(3, 1)\n",
        "bias_hidden = np.zeros((1, 3))\n",
        "bias_output = np.zeros((1, 1))"
      ],
      "metadata": {
        "id": "kcgMSIC1VH46"
      },
      "execution_count": 8,
      "outputs": []
    },
    {
      "cell_type": "code",
      "source": [
        "for epoch in range(1000):\n",
        "    pass"
      ],
      "metadata": {
        "id": "j_SAqDRNVNGX"
      },
      "execution_count": 11,
      "outputs": []
    },
    {
      "cell_type": "code",
      "source": [
        "layer_hidden = np.dot(X, weights_hidden) + bias_hidden\n",
        "activation_hidden = sigmoid(layer_hidden) # Fix indentation\n",
        "layer_output = np.dot(activation_hidden, weights_output) + bias_output\n",
        "activation_output = sigmoid(layer_output)"
      ],
      "metadata": {
        "id": "cKvGGDWHVkmd"
      },
      "execution_count": 13,
      "outputs": []
    },
    {
      "cell_type": "code",
      "source": [
        " loss = mean_squared_error(activation_output, y)"
      ],
      "metadata": {
        "id": "OWm6IY-kVpLl"
      },
      "execution_count": 14,
      "outputs": []
    },
    {
      "cell_type": "code",
      "source": [
        "error_output = activation_output - y\n",
        "derivative_output = sigmoid_derivative(activation_output)  # Fix the indentation\n",
        "delta_output = error_output * derivative_output\n",
        "error_hidden = delta_output.dot(weights_output.T)\n",
        "derivative_hidden = sigmoid_derivative(activation_hidden)\n",
        "delta_hidden = error_hidden * derivative_hidden"
      ],
      "metadata": {
        "id": "3jk2AhPjV56C"
      },
      "execution_count": 16,
      "outputs": []
    },
    {
      "cell_type": "code",
      "source": [
        "print(f'Epoch: {epoch}, Loss: {loss}')\n",
        "weights_output -= activation_hidden.T.dot(delta_output) * 0.1\n",
        "bias_output -= np.sum(delta_output, axis=0, keepdims=True) * 0.1\n",
        "weights_hidden -= X.T.dot(delta_hidden) * 0.1\n",
        "bias_hidden -= np.sum(delta_hidden, axis=0, keepdims=True) * 0.1"
      ],
      "metadata": {
        "colab": {
          "base_uri": "https://localhost:8080/"
        },
        "id": "hS_Fah-wWLLX",
        "outputId": "ce4d03d0-0e1d-4146-dde9-b65787ba5702"
      },
      "execution_count": 18,
      "outputs": [
        {
          "output_type": "stream",
          "name": "stdout",
          "text": [
            "Epoch: 999, Loss: 0.29252053678870665\n"
          ]
        }
      ]
    },
    {
      "cell_type": "code",
      "source": [
        "# Test the MLP with a new input\n",
        "x_test = np.array([1, 0, 0])\n",
        "layer_hidden = np.dot(x_test, weights_hidden) + bias_hidden\n",
        "activation_hidden = sigmoid(layer_hidden)\n",
        "layer_output = np.dot(activation_hidden, weights_output) + bias_output\n",
        "activation_output = sigmoid(layer_output)\n",
        "print(f'Predicted output: {activation_output}')"
      ],
      "metadata": {
        "colab": {
          "base_uri": "https://localhost:8080/"
        },
        "id": "4k9ZYVffWOuQ",
        "outputId": "16c0fdb9-dab0-4e8c-c4ce-ebb6bd226239"
      },
      "execution_count": 19,
      "outputs": [
        {
          "output_type": "stream",
          "name": "stdout",
          "text": [
            "Predicted output: [[0.68107827]]\n"
          ]
        }
      ]
    }
  ]
}